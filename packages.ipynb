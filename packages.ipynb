{
 "cells": [
  {
   "cell_type": "markdown",
   "metadata": {},
   "source": [
    "# Packages\n",
    "\n",
    "\n",
    "A package is a way to organize related modules in a hierarchical directory structure. Packages allow us to group related modules and avoid name conflicts between modules.\n",
    "\n",
    " \n",
    "## Create and use packages\n",
    "\n",
    "To create a package, we create a directory with the desired name and add a special file called __init__.py inside the directory. This file can be empty or contain package initialization code.\n",
    "\n",
    "For example, we create a directory called my_package with the following structure:\n",
    "\n",
    "my_package/\n",
    "    __init__.py\n",
    "    module1.py\n",
    "    module2.py\n",
    "\n",
    "Then, we can import and use the modules from the package in our program.\n",
    "\n",
    "``` python\n",
    "from my_package import module1, module2\n",
    "```"
   ]
  }
 ],
 "metadata": {
  "language_info": {
   "name": "python"
  }
 },
 "nbformat": 4,
 "nbformat_minor": 2
}
