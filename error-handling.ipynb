{
 "cells": [
  {
   "cell_type": "markdown",
   "metadata": {},
   "source": [
    "When we write programs, it is common to encounter unexpected situations or errors during execution. Python provides a mechanism to handle these errors in a controlled manner using exception handling. This allows us to catch and handle specific errors without the program stopping abruptly."
   ]
  },
  {
   "cell_type": "markdown",
   "metadata": {},
   "source": [
    "# Common errors in Python:\n",
    "\n",
    "## Syntax error (SyntaxError)\n",
    "It occurs when code does not follow Python syntax rules, such as forgetting a colon after a function declaration or a loop.\n"
   ]
  },
  {
   "cell_type": "code",
   "execution_count": 2,
   "metadata": {},
   "outputs": [
    {
     "ename": "SyntaxError",
     "evalue": "expected ':' (2971256564.py, line 1)",
     "output_type": "error",
     "traceback": [
      "\u001b[0;36m  Cell \u001b[0;32mIn[2], line 1\u001b[0;36m\u001b[0m\n\u001b[0;31m    def my_function() # Missing colon\u001b[0m\n\u001b[0m                      ^\u001b[0m\n\u001b[0;31mSyntaxError\u001b[0m\u001b[0;31m:\u001b[0m expected ':'\n"
     ]
    }
   ],
   "source": [
    "def my_function() # Missing colon\n",
    "    print(\"Hello\")"
   ]
  },
  {
   "cell_type": "markdown",
   "metadata": {},
   "source": [
    "## Name error (NameError)\n",
    "\n",
    "It occurs when a reference is made to a variable or function that has not been defined.\n"
   ]
  },
  {
   "cell_type": "code",
   "execution_count": 2,
   "metadata": {},
   "outputs": [
    {
     "ename": "NameError",
     "evalue": "name 'undefined_variable' is not defined",
     "output_type": "error",
     "traceback": [
      "\u001b[0;31m---------------------------------------------------------------------------\u001b[0m",
      "\u001b[0;31mNameError\u001b[0m                                 Traceback (most recent call last)",
      "Cell \u001b[0;32mIn[2], line 1\u001b[0m\n\u001b[0;32m----> 1\u001b[0m \u001b[38;5;28mprint\u001b[39m(undefined_variable)\n",
      "\u001b[0;31mNameError\u001b[0m: name 'undefined_variable' is not defined"
     ]
    }
   ],
   "source": [
    "print(undefined_variable)"
   ]
  },
  {
   "cell_type": "markdown",
   "metadata": {},
   "source": [
    "## Type error (TypeError)\n",
    "\n",
    "Occurs when performing an operation with incompatible data types, such as trying to add a number and a string.\n"
   ]
  },
  {
   "cell_type": "code",
   "execution_count": 3,
   "metadata": {},
   "outputs": [
    {
     "ename": "TypeError",
     "evalue": "unsupported operand type(s) for +: 'int' and 'str'",
     "output_type": "error",
     "traceback": [
      "\u001b[0;31m---------------------------------------------------------------------------\u001b[0m",
      "\u001b[0;31mTypeError\u001b[0m                                 Traceback (most recent call last)",
      "Cell \u001b[0;32mIn[3], line 1\u001b[0m\n\u001b[0;32m----> 1\u001b[0m result \u001b[38;5;241m=\u001b[39m \u001b[38;5;241m5\u001b[39m \u001b[38;5;241m+\u001b[39m \u001b[38;5;124m\"\u001b[39m\u001b[38;5;124m10\u001b[39m\u001b[38;5;124m\"\u001b[39m\n",
      "\u001b[0;31mTypeError\u001b[0m: unsupported operand type(s) for +: 'int' and 'str'"
     ]
    }
   ],
   "source": [
    "result = 5 + \"10\"\n"
   ]
  },
  {
   "cell_type": "markdown",
   "metadata": {},
   "source": [
    "## Index error (IndexError)\n",
    "\n",
    "Occurs when attempting to access an index outside the valid range of a list or sequence.\n",
    "\n"
   ]
  },
  {
   "cell_type": "code",
   "execution_count": 4,
   "metadata": {},
   "outputs": [
    {
     "ename": "IndexError",
     "evalue": "list index out of range",
     "output_type": "error",
     "traceback": [
      "\u001b[0;31m---------------------------------------------------------------------------\u001b[0m",
      "\u001b[0;31mIndexError\u001b[0m                                Traceback (most recent call last)",
      "Cell \u001b[0;32mIn[4], line 2\u001b[0m\n\u001b[1;32m      1\u001b[0m \u001b[38;5;28mlist\u001b[39m \u001b[38;5;241m=\u001b[39m [\u001b[38;5;241m1\u001b[39m, \u001b[38;5;241m2\u001b[39m, \u001b[38;5;241m3\u001b[39m]\n\u001b[0;32m----> 2\u001b[0m \u001b[38;5;28mprint\u001b[39m(\u001b[38;5;28mlist\u001b[39m[\u001b[38;5;241m3\u001b[39m])\n",
      "\u001b[0;31mIndexError\u001b[0m: list index out of range"
     ]
    }
   ],
   "source": [
    "list = [1, 2, 3]\n",
    "print(list[3]) # Index 3 is out of range"
   ]
  },
  {
   "cell_type": "markdown",
   "metadata": {},
   "source": [
    "\n",
    "\n",
    "These are just a few examples of common mistakes. When an error occurs, Python raises an exception and displays an error message that includes the type of exception and a description of the problem.\n",
    "\n"
   ]
  },
  {
   "cell_type": "markdown",
   "metadata": {},
   "source": [
    "## Try\n",
    "\n",
    "The try block contains code that can raise an exception. If an exception occurs within the try block, the execution flow is transferred to the corresponding except block.\n",
    "\n",
    "```python\n",
    "try:\n",
    "    # Code that can generate an exception\n",
    "    result = 10 / 0 # Division by zero\n",
    "    print(result)\n",
    "except ZeroDivisionError:\n",
    "    print(\"Error: Division by zero\")\n",
    "```\n",
    "\n"
   ]
  },
  {
   "cell_type": "markdown",
   "metadata": {},
   "source": [
    "## Except\n",
    "\n",
    "The except block specifies the type of exception you want to catch and handle. You can have multiple except blocks to handle different types of exceptions.\n",
    "\n",
    "``` python\n",
    "try:\n",
    "    # Code that can generate an exception\n",
    "    result = 10 / 0 # Division by zero\n",
    "    print(result)\n",
    "except ZeroDivisionError:\n",
    "    print(\"Error: Division by zero\")\n",
    "except ValueError:\n",
    "    print(\"Error: Invalid value\")\n",
    "```"
   ]
  },
  {
   "cell_type": "markdown",
   "metadata": {},
   "source": [
    "## Finally\n",
    "\n",
    "The finally block is optional and is always executed, regardless of whether an exception occurred or not. It is commonly used to perform cleanup or resource release tasks.\n",
    "\n",
    "``` python\n",
    "try:\n",
    "    # Code that can generate an exception\n",
    "    file = open(\"file.txt\", \"r\")\n",
    "    # Perform operations on the file\n",
    "except FileNotFoundError:\n",
    "    print(\"Error: File not found\")\n",
    "finally:\n",
    "    file.close() # Always close the file, even if an exception occurs\n",
    "```\n"
   ]
  },
  {
   "cell_type": "markdown",
   "metadata": {},
   "source": [
    "# Custom exceptions\n",
    "\n",
    "\n",
    "In addition to Python's built-in exceptions, you can also create your own custom exceptions. This is useful when you want to handle specific situations in your program.\n",
    "\n",
    "To create a custom exception, you must create a class that inherits from the base Exception class or one of its subclasses.\n",
    "\n",
    "``` python\n",
    "def function():\n",
    "    # Code that can throw a custom exception\n",
    "    if condition:\n",
    "        raiseException(\"Error description\")\n",
    "\n",
    "try:\n",
    "    function()\n",
    "except Exception as e:\n",
    "    print(f\"Error: {str(e)}\")\n",
    "    \n",
    "```\n",
    "\n",
    "In this example, a function called function() is defined. Inside the function, a condition is checked and if it is met, an exception is raised using the raise statement. Instead of creating a custom class, you directly use the Exception base class to raise the exception.\n",
    "\n"
   ]
  },
  {
   "cell_type": "markdown",
   "metadata": {},
   "source": [
    "A try-except block is then used to catch and handle the exception. The variable e is used to access the error description provided when raising the exception.\n",
    "\n",
    "Error and exception handling is a fundamental part of Python programming. It allows you to handle unexpected situations in a controlled manner and prevent your program from crashing or stopping abruptly.\n",
    "\n",
    "When an error occurs in your code, Python raises an exception. By using try-except blocks, you can catch and handle these exceptions appropriately. You can specify different except blocks to handle different types of exceptions and perform specific actions in each case."
   ]
  },
  {
   "cell_type": "markdown",
   "metadata": {},
   "source": [
    "\n",
    "Additionally, the finally block allows you to execute code to clean up or release resources, regardless of whether an exception occurred or not. This is useful to ensure that certain actions are always performed, such as closing files or database connections."
   ]
  },
  {
   "cell_type": "markdown",
   "metadata": {},
   "source": [
    "[w3 schools try-except](https://www.w3schools.com/python/python_try_except.asp)"
   ]
  },
  {
   "cell_type": "markdown",
   "metadata": {},
   "source": [
    "[Python documentation](https://docs.python.org/3/tutorial/errors.html)"
   ]
  }
 ],
 "metadata": {
  "kernelspec": {
   "display_name": "base",
   "language": "python",
   "name": "python3"
  },
  "language_info": {
   "codemirror_mode": {
    "name": "ipython",
    "version": 3
   },
   "file_extension": ".py",
   "mimetype": "text/x-python",
   "name": "python",
   "nbconvert_exporter": "python",
   "pygments_lexer": "ipython3",
   "version": "3.12.4"
  }
 },
 "nbformat": 4,
 "nbformat_minor": 2
}
